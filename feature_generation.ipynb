{
 "cells": [
  {
   "cell_type": "code",
   "execution_count": 1,
   "metadata": {},
   "outputs": [],
   "source": [
    "import os\n",
    "os.environ[\"OPENAI_API_KEY\"] = \"sk-xxxxxxxxxxxxxxxxxxxxxxxxxxxxxxxxxxxxxxxx\""
   ]
  },
  {
   "cell_type": "code",
   "execution_count": 2,
   "metadata": {},
   "outputs": [],
   "source": [
    "from langchain.document_loaders import DirectoryLoader\n",
    "\n",
    "loader = DirectoryLoader('./my-app/', glob=\"**/*.md\")"
   ]
  },
  {
   "cell_type": "code",
   "execution_count": 14,
   "metadata": {},
   "outputs": [],
   "source": [
    "docs = loader.load()"
   ]
  },
  {
   "cell_type": "code",
   "execution_count": 15,
   "metadata": {},
   "outputs": [],
   "source": [
    "docs = list(filter(lambda x: 'node_modules' not in x.metadata['source'], docs))"
   ]
  },
  {
   "cell_type": "code",
   "execution_count": 21,
   "metadata": {},
   "outputs": [
    {
     "name": "stdout",
     "output_type": "stream",
     "text": [
      "\n",
      "\n",
      "\u001b[1m> Entering new LLMChain chain...\u001b[0m\n",
      "Prompt after formatting:\n",
      "\u001b[32;1m\u001b[1;3m\n",
      "Given the following descriptions of what directories are for and their file conventions,\n",
      "output all the files needed to add create a new view for a user's posts to the app. For each file, include\n",
      "the description of what the file is for.\n",
      "\n",
      "\n",
      "[Document(page_content='This is a Next.js project bootstrapped with create-next-app.\\n\\nGetting Started\\n\\nFirst, run the development server:\\n\\n```bash\\nnpm run dev\\n\\nor\\n\\nyarn dev\\n\\nor\\n\\npnpm dev\\n```\\n\\nOpen http://localhost:3000 with your browser to see the result.\\n\\nYou can start editing the page by modifying app/page.js. The page auto-updates as you edit the file.\\n\\nAPI routes can be accessed on http://localhost:3000/api/hello. This endpoint can be edited in pages/api/hello.js.\\n\\nThe pages/api directory is mapped to /api/*. Files in this directory are treated as API routes instead of React pages.\\n\\nThis project uses next/font to automatically optimize and load Inter, a custom Google Font.\\n\\nLearn More\\n\\nTo learn more about Next.js, take a look at the following resources:\\n\\nNext.js Documentation - learn about Next.js features and API.\\n\\nLearn Next.js - an interactive Next.js tutorial.\\n\\nYou can check out the Next.js GitHub repository - your feedback and contributions are welcome!\\n\\nDeploy on Vercel\\n\\nThe easiest way to deploy your Next.js app is to use the Vercel Platform from the creators of Next.js.\\n\\nCheck out our Next.js deployment documentation for more details.', lookup_str='', metadata={'source': 'my-app/README.md'}, lookup_index=0), Document(page_content=\"What this directory is for\\n\\nAny file inside the folder pages/api is mapped to /api/* and will be treated as an API endpoint instead of a page. They are server-side only bundles and won't increase your client-side bundle size.\", lookup_str='', metadata={'source': 'my-app/app/api/api.md'}, lookup_index=0), Document(page_content=\"What this directory is for\\n\\nNew pages go here. Pages are routes within the application that get their own view.\\nFor example if you want to add a view representing the detail of a user's post, you\\nwill have a sub-directory like posts/[id].tsx.\\n\\nHow to create a page\\n\\nCreate a <page name>/[<parameter>]/.tsx file with the React component\\nCreate a <page name>/[<parameter>].scss file with the styles\\nCreate a <page name>/[<parameter>].test.ts file with tests\", lookup_str='', metadata={'source': 'my-app/app/pages/pages.md'}, lookup_index=0)]\n",
      "\n",
      "The reponse format should be a list of file descriptions, like this:\n",
      "1. path/to/file1.js: description of file1\n",
      "...\n",
      "\u001b[0m\n",
      "\n",
      "\u001b[1m> Finished chain.\u001b[0m\n"
     ]
    }
   ],
   "source": [
    "from langchain.chains import SequentialChain, LLMChain\n",
    "from langchain.prompts import PromptTemplate\n",
    "from langchain.llms import OpenAI\n",
    "\n",
    "llm = OpenAI(temperature=0.7)\n",
    "\n",
    "template = \"\"\"\n",
    "Given the following descriptions of what directories are for and their file conventions,\n",
    "output all the files needed to add {feature_description} to the app. For each file, include\n",
    "the description of what the file is for.\n",
    "\n",
    "\n",
    "{directory_description}\n",
    "\n",
    "The reponse format should be a list of file descriptions, like this:\n",
    "1. path/to/file1.js: description of file1\n",
    "...\n",
    "\"\"\"\n",
    "which_files_prompt = PromptTemplate(\n",
    "    input_variables=[\"directory_description\", \"feature_description\"],\n",
    "    template=template,\n",
    ")\n",
    "\n",
    "chain = LLMChain(prompt=which_files_prompt, llm=llm, verbose=True)\n",
    "\n",
    "predicted_files = chain.predict(feature_description=\"create a new view for a user's posts\", directory_description=docs)"
   ]
  },
  {
   "cell_type": "code",
   "execution_count": 26,
   "metadata": {},
   "outputs": [
    {
     "name": "stdout",
     "output_type": "stream",
     "text": [
      "\n",
      "1. app/pages/posts/[id].tsx: React component to create a view for a user's post\n",
      "2. app/pages/posts/[id].scss: styles associated with the posts view\n",
      "3. app/pages/posts/[id].test.ts: tests for the posts view\n"
     ]
    }
   ],
   "source": [
    "for file in predicted_files.split('\\n'): \n",
    "    print(file)"
   ]
  },
  {
   "cell_type": "code",
   "execution_count": 28,
   "metadata": {},
   "outputs": [
    {
     "data": {
      "text/plain": [
       "\"1. app/pages/posts/[id].tsx: React component to create a view for a user's post\""
      ]
     },
     "execution_count": 28,
     "metadata": {},
     "output_type": "execute_result"
    }
   ],
   "source": [
    "files = predicted_files.split('\\n')\n",
    "files[1]"
   ]
  },
  {
   "cell_type": "code",
   "execution_count": null,
   "metadata": {},
   "outputs": [],
   "source": []
  }
 ],
 "metadata": {
  "kernelspec": {
   "display_name": "Python 3",
   "language": "python",
   "name": "python3"
  },
  "language_info": {
   "codemirror_mode": {
    "name": "ipython",
    "version": 3
   },
   "file_extension": ".py",
   "mimetype": "text/x-python",
   "name": "python",
   "nbconvert_exporter": "python",
   "pygments_lexer": "ipython3",
   "version": "3.10.6"
  },
  "orig_nbformat": 4
 },
 "nbformat": 4,
 "nbformat_minor": 2
}
